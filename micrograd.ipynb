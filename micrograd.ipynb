{
 "cells": [
  {
   "cell_type": "code",
   "execution_count": 1,
   "id": "a0520b40",
   "metadata": {},
   "outputs": [],
   "source": [
    "import math\n",
    "import numpy as np\n",
    "import matplotlib.pyplot as plt\n",
    "%matplotlib inline"
   ]
  },
  {
   "cell_type": "markdown",
   "id": "5428cc53",
   "metadata": {},
   "source": [
    "## Derivative of a simple function with one input\n",
    "$y=3x^2-4x+5$"
   ]
  },
  {
   "cell_type": "code",
   "execution_count": 2,
   "id": "6e3bdfc2",
   "metadata": {},
   "outputs": [],
   "source": [
    "def f(x):\n",
    "    return 3*x**2 - 4*x + 5"
   ]
  },
  {
   "cell_type": "code",
   "execution_count": 3,
   "id": "5ed2afa3",
   "metadata": {},
   "outputs": [
    {
     "data": {
      "text/plain": [
       "20.0"
      ]
     },
     "execution_count": 3,
     "metadata": {},
     "output_type": "execute_result"
    }
   ],
   "source": [
    "f(3.0)"
   ]
  },
  {
   "cell_type": "code",
   "execution_count": 4,
   "id": "1bc7574b",
   "metadata": {},
   "outputs": [
    {
     "data": {
      "text/plain": [
       "[<matplotlib.lines.Line2D at 0x137b1de8988>]"
      ]
     },
     "execution_count": 4,
     "metadata": {},
     "output_type": "execute_result"
    },
    {
     "data": {
      "image/png": "[encoded data removed]",
      "text/plain": [
       "<Figure size 640x480 with 1 Axes>"
      ]
     },
     "metadata": {},
     "output_type": "display_data"
    }
   ],
   "source": [
    "xs = np.arange(-5.0, 5.0, 0.25)\n",
    "ys = f(xs)\n",
    "plt.plot(xs, ys)"
   ]
  },
  {
   "attachments": {
    "image.png": {
     "image/png": "[encoded data removed]"
    }
   },
   "cell_type": "markdown",
   "id": "bf392d78",
   "metadata": {},
   "source": [
    "Then what about the derivative of this y. We do not do what we did in calcus class to write out all terms on paper. We just need to know what it means by its definitation.\n",
    "> If we slightly bump up by small number `h`, how does the function respond. The slope response goes up or goes down and by how much.\n",
    "https://en.wikipedia.org/wiki/Derivative\n",
    "![image.png](attachment:image.png)"
   ]
  },
  {
   "cell_type": "code",
   "execution_count": 5,
   "id": "849f3066",
   "metadata": {},
   "outputs": [
    {
     "data": {
      "text/plain": [
       "14.00003000000538"
      ]
     },
     "execution_count": 5,
     "metadata": {},
     "output_type": "execute_result"
    }
   ],
   "source": [
    "h = 0.00001\n",
    "a = 3.0 # x = -3.0 going down, x = 2/3 almost stay the same\n",
    "how_function_respond = f(a + h) - f(a) # The function will go up or go down\n",
    "normalized_respond_slope = how_function_respond / h\n",
    "normalized_respond_slope"
   ]
  },
  {
   "cell_type": "markdown",
   "id": "dbd13b77",
   "metadata": {},
   "source": [
    "## Derivative of a function with multiple inputs"
   ]
  },
  {
   "cell_type": "code",
   "execution_count": 6,
   "id": "9323a84d",
   "metadata": {},
   "outputs": [
    {
     "data": {
      "text/plain": [
       "-3.000000000064062"
      ]
     },
     "execution_count": 6,
     "metadata": {},
     "output_type": "execute_result"
    }
   ],
   "source": [
    "# Inputs\n",
    "a = 2.0\n",
    "b = -3.0\n",
    "c = 10.0\n",
    "\n",
    "h = 0.00001\n",
    "d1 = a*b + c\n",
    "# Bump up a. Also try b and c\n",
    "a += h\n",
    "d2 = a*b + c\n",
    "\n",
    "# a is slight more positive but b is a negative number\n",
    "(d2 - d1) / h"
   ]
  },
  {
   "cell_type": "markdown",
   "id": "dfd10fde",
   "metadata": {},
   "source": [
    "## Starting core `Value` object"
   ]
  },
  {
   "cell_type": "code",
   "execution_count": 7,
   "id": "fa79b0e8",
   "metadata": {},
   "outputs": [
    {
     "data": {
      "text/plain": [
       "Value(data=-8.0)"
      ]
     },
     "execution_count": 7,
     "metadata": {},
     "output_type": "execute_result"
    }
   ],
   "source": [
    "class Value:\n",
    "    def __init__(self, data, _children=(), _op='', label=''):\n",
    "        self.data = data\n",
    "        self.grad = 0\n",
    "        self._prev = set(_children) # Used for keep a expr graph to know what values produce current value\n",
    "        self._op = _op # Operation happens\n",
    "        self.label = label\n",
    "        \n",
    "    def __repr__(self):\n",
    "        # Wraper is to provide us a way to print a nice-looking expr\n",
    "        return f\"Value(data={self.data})\"\n",
    "    \n",
    "    def __add__(self, other):\n",
    "        # It should not be self.data + other, cause other is an obj\n",
    "        out = Value(self.data + other.data, (self, other), '+')\n",
    "        return out\n",
    "    \n",
    "    def __mul__(self, other):\n",
    "        out = Value(self.data * other.data, (self, other), '*')\n",
    "        return out\n",
    "    \n",
    "a = Value(2.0, label='a')\n",
    "b = Value(-3.0, label='b')\n",
    "c = Value(10.0, label='c')\n",
    "d = a*b; d.label = 'd'\n",
    "e = d + c; e.label = 'e'\n",
    "f = Value(-2.0, label='f')\n",
    "L = e * f; L.label = 'L'\n",
    "L"
   ]
  },
  {
   "cell_type": "code",
   "execution_count": 8,
   "id": "6c23876e",
   "metadata": {},
   "outputs": [
    {
     "data": {
      "text/plain": [
       "({Value(data=-2.0), Value(data=4.0)}, '*')"
      ]
     },
     "execution_count": 8,
     "metadata": {},
     "output_type": "execute_result"
    }
   ],
   "source": [
    "L._prev, L._op"
   ]
  },
  {
   "cell_type": "code",
   "execution_count": 9,
   "id": "caf482c8",
   "metadata": {},
   "outputs": [],
   "source": [
    "from graphviz import Digraph\n",
    "\n",
    "def trace(root):\n",
    "    nodes, edges = set(), set()\n",
    "    def build(node):\n",
    "        if node not in nodes:\n",
    "            nodes.add(node)\n",
    "        for child in node._prev:\n",
    "            edges.add((child, node))\n",
    "            build(child)\n",
    "    build(root)\n",
    "    return nodes, edges\n",
    "\n",
    "def draw(root):\n",
    "    dot = Digraph(format='svg', graph_attr={'rankdir': 'LR'})\n",
    "    nodes, edges = trace(root)\n",
    "    for node in nodes:\n",
    "        uid = str(id(node))\n",
    "        dot.node(name=uid, label=\"%s | data %.4f | grad %.4f\" % (node.label, node.data, node.grad), shape='record')\n",
    "        if node._op:\n",
    "            dot.node(name=uid + node._op, label=node._op)\n",
    "            dot.edge(uid + node._op, uid)\n",
    "    for n1, n2 in edges:\n",
    "        dot.edge(str(id(n1)), str(id(n2)) + n2._op)\n",
    "    return dot"
   ]
  },
  {
   "cell_type": "code",
   "execution_count": 10,
   "id": "ce5bfe63",
   "metadata": {},
   "outputs": [
    {
     "data": {
      "image/svg+xml": [
       "<?xml version=\"1.0\" encoding=\"UTF-8\" standalone=\"no\"?>\n",
       "<!DOCTYPE svg PUBLIC \"-//W3C//DTD SVG 1.1//EN\"\n",
       " \"http://www.w3.org/Graphics/SVG/1.1/DTD/svg11.dtd\">\n",
       "<!-- Generated by graphviz version 7.0.6 (20230106.0513)\n",
       " -->\n",
       "<!-- Pages: 1 -->\n",
       "<svg width=\"732pt\" height=\"210pt\"\n",
       " viewBox=\"0.00 0.00 732.00 210.00\" xmlns=\"http://www.w3.org/2000/svg\" xmlns:xlink=\"http://www.w3.org/1999/xlink\">\n",
       "<g id=\"graph0\" class=\"graph\" transform=\"scale(1 1) rotate(0) translate(4 206)\">\n",
       "<polygon fill=\"white\" stroke=\"none\" points=\"-4,4 -4,-206 728,-206 728,4 -4,4\"/>\n",
       "<!-- 1338756134472 -->\n",
       "<g id=\"node1\" class=\"node\">\n",
       "<title>1338756134472</title>\n",
       "<polygon fill=\"none\" stroke=\"black\" points=\"426,-132.5 426,-201.5 512,-201.5 512,-132.5 426,-132.5\"/>\n",
       "<text text-anchor=\"middle\" x=\"469\" y=\"-186.3\" font-family=\"Times New Roman,serif\" font-size=\"14.00\">f</text>\n",
       "<polyline fill=\"none\" stroke=\"black\" points=\"426,-178.5 512,-178.5\"/>\n",
       "<text text-anchor=\"middle\" x=\"469\" y=\"-163.3\" font-family=\"Times New Roman,serif\" font-size=\"14.00\">data &#45;2.0000</text>\n",
       "<polyline fill=\"none\" stroke=\"black\" points=\"426,-155.5 512,-155.5\"/>\n",
       "<text text-anchor=\"middle\" x=\"469\" y=\"-140.3\" font-family=\"Times New Roman,serif\" font-size=\"14.00\">grad 0.0000</text>\n",
       "</g>\n",
       "<!-- 1338756134536* -->\n",
       "<g id=\"node3\" class=\"node\">\n",
       "<title>1338756134536*</title>\n",
       "<ellipse fill=\"none\" stroke=\"black\" cx=\"575\" cy=\"-123\" rx=\"27\" ry=\"18\"/>\n",
       "<text text-anchor=\"middle\" x=\"575\" y=\"-119.3\" font-family=\"Times New Roman,serif\" font-size=\"14.00\">*</text>\n",
       "</g>\n",
       "<!-- 1338756134472&#45;&gt;1338756134536* -->\n",
       "<g id=\"edge4\" class=\"edge\">\n",
       "<title>1338756134472&#45;&gt;1338756134536*</title>\n",
       "<path fill=\"none\" stroke=\"black\" d=\"M511.7,-149.36C521.53,-145.2 531.87,-140.82 541.24,-136.86\"/>\n",
       "<polygon fill=\"black\" stroke=\"black\" points=\"542.47,-140.14 550.31,-133.02 539.74,-133.69 542.47,-140.14\"/>\n",
       "</g>\n",
       "<!-- 1338756134536 -->\n",
       "<g id=\"node2\" class=\"node\">\n",
       "<title>1338756134536</title>\n",
       "<polygon fill=\"none\" stroke=\"black\" points=\"638,-88.5 638,-157.5 724,-157.5 724,-88.5 638,-88.5\"/>\n",
       "<text text-anchor=\"middle\" x=\"681\" y=\"-142.3\" font-family=\"Times New Roman,serif\" font-size=\"14.00\">L</text>\n",
       "<polyline fill=\"none\" stroke=\"black\" points=\"638,-134.5 724,-134.5\"/>\n",
       "<text text-anchor=\"middle\" x=\"681\" y=\"-119.3\" font-family=\"Times New Roman,serif\" font-size=\"14.00\">data &#45;8.0000</text>\n",
       "<polyline fill=\"none\" stroke=\"black\" points=\"638,-111.5 724,-111.5\"/>\n",
       "<text text-anchor=\"middle\" x=\"681\" y=\"-96.3\" font-family=\"Times New Roman,serif\" font-size=\"14.00\">grad 0.0000</text>\n",
       "</g>\n",
       "<!-- 1338756134536*&#45;&gt;1338756134536 -->\n",
       "<g id=\"edge1\" class=\"edge\">\n",
       "<title>1338756134536*&#45;&gt;1338756134536</title>\n",
       "<path fill=\"none\" stroke=\"black\" d=\"M602.24,-123C609.86,-123 618.46,-123 627.09,-123\"/>\n",
       "<polygon fill=\"black\" stroke=\"black\" points=\"626.87,-126.5 636.87,-123 626.87,-119.5 626.87,-126.5\"/>\n",
       "</g>\n",
       "<!-- 1338756134600 -->\n",
       "<g id=\"node4\" class=\"node\">\n",
       "<title>1338756134600</title>\n",
       "<polygon fill=\"none\" stroke=\"black\" points=\"213,-88.5 213,-157.5 299,-157.5 299,-88.5 213,-88.5\"/>\n",
       "<text text-anchor=\"middle\" x=\"256\" y=\"-142.3\" font-family=\"Times New Roman,serif\" font-size=\"14.00\">d</text>\n",
       "<polyline fill=\"none\" stroke=\"black\" points=\"213,-134.5 299,-134.5\"/>\n",
       "<text text-anchor=\"middle\" x=\"256\" y=\"-119.3\" font-family=\"Times New Roman,serif\" font-size=\"14.00\">data &#45;6.0000</text>\n",
       "<polyline fill=\"none\" stroke=\"black\" points=\"213,-111.5 299,-111.5\"/>\n",
       "<text text-anchor=\"middle\" x=\"256\" y=\"-96.3\" font-family=\"Times New Roman,serif\" font-size=\"14.00\">grad 0.0000</text>\n",
       "</g>\n",
       "<!-- 1338756134664+ -->\n",
       "<g id=\"node7\" class=\"node\">\n",
       "<title>1338756134664+</title>\n",
       "<ellipse fill=\"none\" stroke=\"black\" cx=\"363\" cy=\"-79\" rx=\"27\" ry=\"18\"/>\n",
       "<text text-anchor=\"middle\" x=\"363\" y=\"-75.3\" font-family=\"Times New Roman,serif\" font-size=\"14.00\">+</text>\n",
       "</g>\n",
       "<!-- 1338756134600&#45;&gt;1338756134664+ -->\n",
       "<g id=\"edge5\" class=\"edge\">\n",
       "<title>1338756134600&#45;&gt;1338756134664+</title>\n",
       "<path fill=\"none\" stroke=\"black\" d=\"M298.8,-105.48C308.94,-101.24 319.63,-96.75 329.28,-92.71\"/>\n",
       "<polygon fill=\"black\" stroke=\"black\" points=\"330.38,-96.04 338.25,-88.95 327.68,-89.59 330.38,-96.04\"/>\n",
       "</g>\n",
       "<!-- 1338756134600* -->\n",
       "<g id=\"node5\" class=\"node\">\n",
       "<title>1338756134600*</title>\n",
       "<ellipse fill=\"none\" stroke=\"black\" cx=\"149\" cy=\"-123\" rx=\"27\" ry=\"18\"/>\n",
       "<text text-anchor=\"middle\" x=\"149\" y=\"-119.3\" font-family=\"Times New Roman,serif\" font-size=\"14.00\">*</text>\n",
       "</g>\n",
       "<!-- 1338756134600*&#45;&gt;1338756134600 -->\n",
       "<g id=\"edge2\" class=\"edge\">\n",
       "<title>1338756134600*&#45;&gt;1338756134600</title>\n",
       "<path fill=\"none\" stroke=\"black\" d=\"M176.5,-123C184.36,-123 193.26,-123 202.17,-123\"/>\n",
       "<polygon fill=\"black\" stroke=\"black\" points=\"201.87,-126.5 211.87,-123 201.87,-119.5 201.87,-126.5\"/>\n",
       "</g>\n",
       "<!-- 1338756134664 -->\n",
       "<g id=\"node6\" class=\"node\">\n",
       "<title>1338756134664</title>\n",
       "<polygon fill=\"none\" stroke=\"black\" points=\"427.5,-44.5 427.5,-113.5 510.5,-113.5 510.5,-44.5 427.5,-44.5\"/>\n",
       "<text text-anchor=\"middle\" x=\"469\" y=\"-98.3\" font-family=\"Times New Roman,serif\" font-size=\"14.00\">e</text>\n",
       "<polyline fill=\"none\" stroke=\"black\" points=\"427.5,-90.5 510.5,-90.5\"/>\n",
       "<text text-anchor=\"middle\" x=\"469\" y=\"-75.3\" font-family=\"Times New Roman,serif\" font-size=\"14.00\">data 4.0000</text>\n",
       "<polyline fill=\"none\" stroke=\"black\" points=\"427.5,-67.5 510.5,-67.5\"/>\n",
       "<text text-anchor=\"middle\" x=\"469\" y=\"-52.3\" font-family=\"Times New Roman,serif\" font-size=\"14.00\">grad 0.0000</text>\n",
       "</g>\n",
       "<!-- 1338756134664&#45;&gt;1338756134536* -->\n",
       "<g id=\"edge6\" class=\"edge\">\n",
       "<title>1338756134664&#45;&gt;1338756134536*</title>\n",
       "<path fill=\"none\" stroke=\"black\" d=\"M510.21,-96.01C520.43,-100.33 531.28,-104.93 541.09,-109.08\"/>\n",
       "<polygon fill=\"black\" stroke=\"black\" points=\"539.66,-112.27 550.23,-112.94 542.38,-105.82 539.66,-112.27\"/>\n",
       "</g>\n",
       "<!-- 1338756134664+&#45;&gt;1338756134664 -->\n",
       "<g id=\"edge3\" class=\"edge\">\n",
       "<title>1338756134664+&#45;&gt;1338756134664</title>\n",
       "<path fill=\"none\" stroke=\"black\" d=\"M390.24,-79C398.2,-79 407.23,-79 416.25,-79\"/>\n",
       "<polygon fill=\"black\" stroke=\"black\" points=\"416.07,-82.5 426.07,-79 416.07,-75.5 416.07,-82.5\"/>\n",
       "</g>\n",
       "<!-- 1338718594376 -->\n",
       "<g id=\"node8\" class=\"node\">\n",
       "<title>1338718594376</title>\n",
       "<polygon fill=\"none\" stroke=\"black\" points=\"212,-0.5 212,-69.5 300,-69.5 300,-0.5 212,-0.5\"/>\n",
       "<text text-anchor=\"middle\" x=\"256\" y=\"-54.3\" font-family=\"Times New Roman,serif\" font-size=\"14.00\">c</text>\n",
       "<polyline fill=\"none\" stroke=\"black\" points=\"212,-46.5 300,-46.5\"/>\n",
       "<text text-anchor=\"middle\" x=\"256\" y=\"-31.3\" font-family=\"Times New Roman,serif\" font-size=\"14.00\">data 10.0000</text>\n",
       "<polyline fill=\"none\" stroke=\"black\" points=\"212,-23.5 300,-23.5\"/>\n",
       "<text text-anchor=\"middle\" x=\"256\" y=\"-8.3\" font-family=\"Times New Roman,serif\" font-size=\"14.00\">grad 0.0000</text>\n",
       "</g>\n",
       "<!-- 1338718594376&#45;&gt;1338756134664+ -->\n",
       "<g id=\"edge9\" class=\"edge\">\n",
       "<title>1338718594376&#45;&gt;1338756134664+</title>\n",
       "<path fill=\"none\" stroke=\"black\" d=\"M299.71,-52.9C309.5,-57 319.77,-61.3 329.07,-65.2\"/>\n",
       "<polygon fill=\"black\" stroke=\"black\" points=\"327.5,-68.34 338.08,-68.98 330.21,-61.88 327.5,-68.34\"/>\n",
       "</g>\n",
       "<!-- 1338756133256 -->\n",
       "<g id=\"node9\" class=\"node\">\n",
       "<title>1338756133256</title>\n",
       "<polygon fill=\"none\" stroke=\"black\" points=\"1.5,-132.5 1.5,-201.5 84.5,-201.5 84.5,-132.5 1.5,-132.5\"/>\n",
       "<text text-anchor=\"middle\" x=\"43\" y=\"-186.3\" font-family=\"Times New Roman,serif\" font-size=\"14.00\">a</text>\n",
       "<polyline fill=\"none\" stroke=\"black\" points=\"1.5,-178.5 84.5,-178.5\"/>\n",
       "<text text-anchor=\"middle\" x=\"43\" y=\"-163.3\" font-family=\"Times New Roman,serif\" font-size=\"14.00\">data 2.0000</text>\n",
       "<polyline fill=\"none\" stroke=\"black\" points=\"1.5,-155.5 84.5,-155.5\"/>\n",
       "<text text-anchor=\"middle\" x=\"43\" y=\"-140.3\" font-family=\"Times New Roman,serif\" font-size=\"14.00\">grad 0.0000</text>\n",
       "</g>\n",
       "<!-- 1338756133256&#45;&gt;1338756134600* -->\n",
       "<g id=\"edge7\" class=\"edge\">\n",
       "<title>1338756133256&#45;&gt;1338756134600*</title>\n",
       "<path fill=\"none\" stroke=\"black\" d=\"M84.21,-149.99C94.43,-145.67 105.28,-141.07 115.09,-136.92\"/>\n",
       "<polygon fill=\"black\" stroke=\"black\" points=\"116.38,-140.18 124.23,-133.06 113.66,-133.73 116.38,-140.18\"/>\n",
       "</g>\n",
       "<!-- 1338756133320 -->\n",
       "<g id=\"node10\" class=\"node\">\n",
       "<title>1338756133320</title>\n",
       "<polygon fill=\"none\" stroke=\"black\" points=\"0,-44.5 0,-113.5 86,-113.5 86,-44.5 0,-44.5\"/>\n",
       "<text text-anchor=\"middle\" x=\"43\" y=\"-98.3\" font-family=\"Times New Roman,serif\" font-size=\"14.00\">b</text>\n",
       "<polyline fill=\"none\" stroke=\"black\" points=\"0,-90.5 86,-90.5\"/>\n",
       "<text text-anchor=\"middle\" x=\"43\" y=\"-75.3\" font-family=\"Times New Roman,serif\" font-size=\"14.00\">data &#45;3.0000</text>\n",
       "<polyline fill=\"none\" stroke=\"black\" points=\"0,-67.5 86,-67.5\"/>\n",
       "<text text-anchor=\"middle\" x=\"43\" y=\"-52.3\" font-family=\"Times New Roman,serif\" font-size=\"14.00\">grad 0.0000</text>\n",
       "</g>\n",
       "<!-- 1338756133320&#45;&gt;1338756134600* -->\n",
       "<g id=\"edge8\" class=\"edge\">\n",
       "<title>1338756133320&#45;&gt;1338756134600*</title>\n",
       "<path fill=\"none\" stroke=\"black\" d=\"M85.7,-96.64C95.53,-100.8 105.87,-105.18 115.24,-109.14\"/>\n",
       "<polygon fill=\"black\" stroke=\"black\" points=\"113.74,-112.31 124.31,-112.98 116.47,-105.86 113.74,-112.31\"/>\n",
       "</g>\n",
       "</g>\n",
       "</svg>\n"
      ],
      "text/plain": [
       "<graphviz.graphs.Digraph at 0x137b4154688>"
      ]
     },
     "execution_count": 10,
     "metadata": {},
     "output_type": "execute_result"
    }
   ],
   "source": [
    "draw(L)"
   ]
  },
  {
   "cell_type": "markdown",
   "id": "39761ed4",
   "metadata": {},
   "source": [
    "Run backprop. Reverse from `L` to calculate gradients along all intermediate values. The derivatives respect to `L` of every node will be calculated. Some of these `a`, `b`, `c` and `f` will eventually represent weights in nerual networks, we are very interested in how these weights impacting the loss function which is basically the derivative. Others will be data which are fixed and weights are iterative.\n",
    "\n",
    "Initially, we assume every node has no effect on the output. Thus the gradient of each node is set to `0`."
   ]
  },
  {
   "cell_type": "markdown",
   "id": "cffb010a",
   "metadata": {},
   "source": [
    "## Back Propgation\n",
    "### Example 1"
   ]
  },
  {
   "cell_type": "code",
   "execution_count": 29,
   "id": "533483c6",
   "metadata": {},
   "outputs": [
    {
     "name": "stdout",
     "output_type": "stream",
     "text": [
      "-4.000000000559112\n"
     ]
    }
   ],
   "source": [
    "# Mannual calculcation of gradients\n",
    "def lol():\n",
    "    # Inline gradient check for all intermediate node.\n",
    "    h = 0.000001\n",
    "    \n",
    "    a = Value(2.0, label='a')\n",
    "    b = Value(-3.0, label='b')\n",
    "    c = Value(10.0, label='c')\n",
    "    d = a*b; d.label = 'd'\n",
    "    e = d + c; e.label = 'e';\n",
    "    f = Value(-2.0, label='f')\n",
    "    L = e * f; L.label = 'L'\n",
    "    L1 = L.data\n",
    "    \n",
    "    a = Value(2.0, label='a')\n",
    "    b = Value(-3.0+h, label='b')\n",
    "    c = Value(10.0, label='c')\n",
    "    d = a*b; d.label = 'd'\n",
    "    e = d + c; e.label = 'e';\n",
    "    f = Value(-2.0, label='f')\n",
    "    L = e * f; L.label = 'L'\n",
    "    L2 = L.data\n",
    "    \n",
    "    print((L2 - L1) / h)\n",
    "lol()"
   ]
  },
  {
   "cell_type": "code",
   "execution_count": 30,
   "id": "d900c526",
   "metadata": {},
   "outputs": [
    {
     "data": {
      "image/svg+xml": [
       "<?xml version=\"1.0\" encoding=\"UTF-8\" standalone=\"no\"?>\n",
       "<!DOCTYPE svg PUBLIC \"-//W3C//DTD SVG 1.1//EN\"\n",
       " \"http://www.w3.org/Graphics/SVG/1.1/DTD/svg11.dtd\">\n",
       "<!-- Generated by graphviz version 7.0.6 (20230106.0513)\n",
       " -->\n",
       "<!-- Pages: 1 -->\n",
       "<svg width=\"734pt\" height=\"210pt\"\n",
       " viewBox=\"0.00 0.00 734.00 210.00\" xmlns=\"http://www.w3.org/2000/svg\" xmlns:xlink=\"http://www.w3.org/1999/xlink\">\n",
       "<g id=\"graph0\" class=\"graph\" transform=\"scale(1 1) rotate(0) translate(4 206)\">\n",
       "<polygon fill=\"white\" stroke=\"none\" points=\"-4,4 -4,-206 730,-206 730,4 -4,4\"/>\n",
       "<!-- 1338756134472 -->\n",
       "<g id=\"node1\" class=\"node\">\n",
       "<title>1338756134472</title>\n",
       "<polygon fill=\"none\" stroke=\"black\" points=\"427.5,-132.5 427.5,-201.5 513.5,-201.5 513.5,-132.5 427.5,-132.5\"/>\n",
       "<text text-anchor=\"middle\" x=\"470.5\" y=\"-186.3\" font-family=\"Times New Roman,serif\" font-size=\"14.00\">f</text>\n",
       "<polyline fill=\"none\" stroke=\"black\" points=\"427.5,-178.5 513.5,-178.5\"/>\n",
       "<text text-anchor=\"middle\" x=\"470.5\" y=\"-163.3\" font-family=\"Times New Roman,serif\" font-size=\"14.00\">data &#45;2.0000</text>\n",
       "<polyline fill=\"none\" stroke=\"black\" points=\"427.5,-155.5 513.5,-155.5\"/>\n",
       "<text text-anchor=\"middle\" x=\"470.5\" y=\"-140.3\" font-family=\"Times New Roman,serif\" font-size=\"14.00\">grad 4.0000</text>\n",
       "</g>\n",
       "<!-- 1338756134536* -->\n",
       "<g id=\"node3\" class=\"node\">\n",
       "<title>1338756134536*</title>\n",
       "<ellipse fill=\"none\" stroke=\"black\" cx=\"577\" cy=\"-123\" rx=\"27\" ry=\"18\"/>\n",
       "<text text-anchor=\"middle\" x=\"577\" y=\"-119.3\" font-family=\"Times New Roman,serif\" font-size=\"14.00\">*</text>\n",
       "</g>\n",
       "<!-- 1338756134472&#45;&gt;1338756134536* -->\n",
       "<g id=\"edge4\" class=\"edge\">\n",
       "<title>1338756134472&#45;&gt;1338756134536*</title>\n",
       "<path fill=\"none\" stroke=\"black\" d=\"M513.4,-149.36C523.28,-145.2 533.67,-140.82 543.08,-136.86\"/>\n",
       "<polygon fill=\"black\" stroke=\"black\" points=\"544.35,-140.13 552.21,-133.02 541.63,-133.67 544.35,-140.13\"/>\n",
       "</g>\n",
       "<!-- 1338756134536 -->\n",
       "<g id=\"node2\" class=\"node\">\n",
       "<title>1338756134536</title>\n",
       "<polygon fill=\"none\" stroke=\"black\" points=\"640,-88.5 640,-157.5 726,-157.5 726,-88.5 640,-88.5\"/>\n",
       "<text text-anchor=\"middle\" x=\"683\" y=\"-142.3\" font-family=\"Times New Roman,serif\" font-size=\"14.00\">L</text>\n",
       "<polyline fill=\"none\" stroke=\"black\" points=\"640,-134.5 726,-134.5\"/>\n",
       "<text text-anchor=\"middle\" x=\"683\" y=\"-119.3\" font-family=\"Times New Roman,serif\" font-size=\"14.00\">data &#45;8.0000</text>\n",
       "<polyline fill=\"none\" stroke=\"black\" points=\"640,-111.5 726,-111.5\"/>\n",
       "<text text-anchor=\"middle\" x=\"683\" y=\"-96.3\" font-family=\"Times New Roman,serif\" font-size=\"14.00\">grad 1.0000</text>\n",
       "</g>\n",
       "<!-- 1338756134536*&#45;&gt;1338756134536 -->\n",
       "<g id=\"edge1\" class=\"edge\">\n",
       "<title>1338756134536*&#45;&gt;1338756134536</title>\n",
       "<path fill=\"none\" stroke=\"black\" d=\"M604.24,-123C611.86,-123 620.46,-123 629.09,-123\"/>\n",
       "<polygon fill=\"black\" stroke=\"black\" points=\"628.87,-126.5 638.87,-123 628.87,-119.5 628.87,-126.5\"/>\n",
       "</g>\n",
       "<!-- 1338756134600 -->\n",
       "<g id=\"node4\" class=\"node\">\n",
       "<title>1338756134600</title>\n",
       "<polygon fill=\"none\" stroke=\"black\" points=\"213.5,-88.5 213.5,-157.5 300.5,-157.5 300.5,-88.5 213.5,-88.5\"/>\n",
       "<text text-anchor=\"middle\" x=\"257\" y=\"-142.3\" font-family=\"Times New Roman,serif\" font-size=\"14.00\">d</text>\n",
       "<polyline fill=\"none\" stroke=\"black\" points=\"213.5,-134.5 300.5,-134.5\"/>\n",
       "<text text-anchor=\"middle\" x=\"257\" y=\"-119.3\" font-family=\"Times New Roman,serif\" font-size=\"14.00\">data &#45;6.0000</text>\n",
       "<polyline fill=\"none\" stroke=\"black\" points=\"213.5,-111.5 300.5,-111.5\"/>\n",
       "<text text-anchor=\"middle\" x=\"257\" y=\"-96.3\" font-family=\"Times New Roman,serif\" font-size=\"14.00\">grad &#45;2.0000</text>\n",
       "</g>\n",
       "<!-- 1338756134664+ -->\n",
       "<g id=\"node7\" class=\"node\">\n",
       "<title>1338756134664+</title>\n",
       "<ellipse fill=\"none\" stroke=\"black\" cx=\"364\" cy=\"-79\" rx=\"27\" ry=\"18\"/>\n",
       "<text text-anchor=\"middle\" x=\"364\" y=\"-75.3\" font-family=\"Times New Roman,serif\" font-size=\"14.00\">+</text>\n",
       "</g>\n",
       "<!-- 1338756134600&#45;&gt;1338756134664+ -->\n",
       "<g id=\"edge5\" class=\"edge\">\n",
       "<title>1338756134600&#45;&gt;1338756134664+</title>\n",
       "<path fill=\"none\" stroke=\"black\" d=\"M300.4,-105.23C310.3,-101.08 320.7,-96.72 330.12,-92.78\"/>\n",
       "<polygon fill=\"black\" stroke=\"black\" points=\"331.36,-96.05 339.23,-88.96 328.66,-89.6 331.36,-96.05\"/>\n",
       "</g>\n",
       "<!-- 1338756134600* -->\n",
       "<g id=\"node5\" class=\"node\">\n",
       "<title>1338756134600*</title>\n",
       "<ellipse fill=\"none\" stroke=\"black\" cx=\"150\" cy=\"-123\" rx=\"27\" ry=\"18\"/>\n",
       "<text text-anchor=\"middle\" x=\"150\" y=\"-119.3\" font-family=\"Times New Roman,serif\" font-size=\"14.00\">*</text>\n",
       "</g>\n",
       "<!-- 1338756134600*&#45;&gt;1338756134600 -->\n",
       "<g id=\"edge2\" class=\"edge\">\n",
       "<title>1338756134600*&#45;&gt;1338756134600</title>\n",
       "<path fill=\"none\" stroke=\"black\" d=\"M177.5,-123C185.1,-123 193.68,-123 202.3,-123\"/>\n",
       "<polygon fill=\"black\" stroke=\"black\" points=\"202.06,-126.5 212.06,-123 202.06,-119.5 202.06,-126.5\"/>\n",
       "</g>\n",
       "<!-- 1338756134664 -->\n",
       "<g id=\"node6\" class=\"node\">\n",
       "<title>1338756134664</title>\n",
       "<polygon fill=\"none\" stroke=\"black\" points=\"427,-44.5 427,-113.5 514,-113.5 514,-44.5 427,-44.5\"/>\n",
       "<text text-anchor=\"middle\" x=\"470.5\" y=\"-98.3\" font-family=\"Times New Roman,serif\" font-size=\"14.00\">e</text>\n",
       "<polyline fill=\"none\" stroke=\"black\" points=\"427,-90.5 514,-90.5\"/>\n",
       "<text text-anchor=\"middle\" x=\"470.5\" y=\"-75.3\" font-family=\"Times New Roman,serif\" font-size=\"14.00\">data 4.0000</text>\n",
       "<polyline fill=\"none\" stroke=\"black\" points=\"427,-67.5 514,-67.5\"/>\n",
       "<text text-anchor=\"middle\" x=\"470.5\" y=\"-52.3\" font-family=\"Times New Roman,serif\" font-size=\"14.00\">grad &#45;2.0000</text>\n",
       "</g>\n",
       "<!-- 1338756134664&#45;&gt;1338756134536* -->\n",
       "<g id=\"edge6\" class=\"edge\">\n",
       "<title>1338756134664&#45;&gt;1338756134536*</title>\n",
       "<path fill=\"none\" stroke=\"black\" d=\"M513.7,-96.77C523.47,-100.88 533.73,-105.2 543.04,-109.12\"/>\n",
       "<polygon fill=\"black\" stroke=\"black\" points=\"541.48,-112.26 552.05,-112.92 544.19,-105.81 541.48,-112.26\"/>\n",
       "</g>\n",
       "<!-- 1338756134664+&#45;&gt;1338756134664 -->\n",
       "<g id=\"edge3\" class=\"edge\">\n",
       "<title>1338756134664+&#45;&gt;1338756134664</title>\n",
       "<path fill=\"none\" stroke=\"black\" d=\"M391.37,-79C398.94,-79 407.47,-79 416.05,-79\"/>\n",
       "<polygon fill=\"black\" stroke=\"black\" points=\"415.76,-82.5 425.76,-79 415.76,-75.5 415.76,-82.5\"/>\n",
       "</g>\n",
       "<!-- 1338718594376 -->\n",
       "<g id=\"node8\" class=\"node\">\n",
       "<title>1338718594376</title>\n",
       "<polygon fill=\"none\" stroke=\"black\" points=\"213,-0.5 213,-69.5 301,-69.5 301,-0.5 213,-0.5\"/>\n",
       "<text text-anchor=\"middle\" x=\"257\" y=\"-54.3\" font-family=\"Times New Roman,serif\" font-size=\"14.00\">c</text>\n",
       "<polyline fill=\"none\" stroke=\"black\" points=\"213,-46.5 301,-46.5\"/>\n",
       "<text text-anchor=\"middle\" x=\"257\" y=\"-31.3\" font-family=\"Times New Roman,serif\" font-size=\"14.00\">data 10.0000</text>\n",
       "<polyline fill=\"none\" stroke=\"black\" points=\"213,-23.5 301,-23.5\"/>\n",
       "<text text-anchor=\"middle\" x=\"257\" y=\"-8.3\" font-family=\"Times New Roman,serif\" font-size=\"14.00\">grad &#45;2.0000</text>\n",
       "</g>\n",
       "<!-- 1338718594376&#45;&gt;1338756134664+ -->\n",
       "<g id=\"edge9\" class=\"edge\">\n",
       "<title>1338718594376&#45;&gt;1338756134664+</title>\n",
       "<path fill=\"none\" stroke=\"black\" d=\"M300.71,-52.9C310.5,-57 320.77,-61.3 330.07,-65.2\"/>\n",
       "<polygon fill=\"black\" stroke=\"black\" points=\"328.5,-68.34 339.08,-68.98 331.21,-61.88 328.5,-68.34\"/>\n",
       "</g>\n",
       "<!-- 1338756133256 -->\n",
       "<g id=\"node9\" class=\"node\">\n",
       "<title>1338756133256</title>\n",
       "<polygon fill=\"none\" stroke=\"black\" points=\"2,-132.5 2,-201.5 85,-201.5 85,-132.5 2,-132.5\"/>\n",
       "<text text-anchor=\"middle\" x=\"43.5\" y=\"-186.3\" font-family=\"Times New Roman,serif\" font-size=\"14.00\">a</text>\n",
       "<polyline fill=\"none\" stroke=\"black\" points=\"2,-178.5 85,-178.5\"/>\n",
       "<text text-anchor=\"middle\" x=\"43.5\" y=\"-163.3\" font-family=\"Times New Roman,serif\" font-size=\"14.00\">data 2.0000</text>\n",
       "<polyline fill=\"none\" stroke=\"black\" points=\"2,-155.5 85,-155.5\"/>\n",
       "<text text-anchor=\"middle\" x=\"43.5\" y=\"-140.3\" font-family=\"Times New Roman,serif\" font-size=\"14.00\">grad 6.0000</text>\n",
       "</g>\n",
       "<!-- 1338756133256&#45;&gt;1338756134600* -->\n",
       "<g id=\"edge7\" class=\"edge\">\n",
       "<title>1338756133256&#45;&gt;1338756134600*</title>\n",
       "<path fill=\"none\" stroke=\"black\" d=\"M84.9,-149.99C95.17,-145.67 106.08,-141.07 115.93,-136.92\"/>\n",
       "<polygon fill=\"black\" stroke=\"black\" points=\"117.26,-140.16 125.12,-133.05 114.55,-133.71 117.26,-140.16\"/>\n",
       "</g>\n",
       "<!-- 1338756133320 -->\n",
       "<g id=\"node10\" class=\"node\">\n",
       "<title>1338756133320</title>\n",
       "<polygon fill=\"none\" stroke=\"black\" points=\"0,-44.5 0,-113.5 87,-113.5 87,-44.5 0,-44.5\"/>\n",
       "<text text-anchor=\"middle\" x=\"43.5\" y=\"-98.3\" font-family=\"Times New Roman,serif\" font-size=\"14.00\">b</text>\n",
       "<polyline fill=\"none\" stroke=\"black\" points=\"0,-90.5 87,-90.5\"/>\n",
       "<text text-anchor=\"middle\" x=\"43.5\" y=\"-75.3\" font-family=\"Times New Roman,serif\" font-size=\"14.00\">data &#45;3.0000</text>\n",
       "<polyline fill=\"none\" stroke=\"black\" points=\"0,-67.5 87,-67.5\"/>\n",
       "<text text-anchor=\"middle\" x=\"43.5\" y=\"-52.3\" font-family=\"Times New Roman,serif\" font-size=\"14.00\">grad &#45;4.0000</text>\n",
       "</g>\n",
       "<!-- 1338756133320&#45;&gt;1338756134600* -->\n",
       "<g id=\"edge8\" class=\"edge\">\n",
       "<title>1338756133320&#45;&gt;1338756134600*</title>\n",
       "<path fill=\"none\" stroke=\"black\" d=\"M86.7,-96.77C96.47,-100.88 106.73,-105.2 116.04,-109.12\"/>\n",
       "<polygon fill=\"black\" stroke=\"black\" points=\"114.48,-112.26 125.05,-112.92 117.19,-105.81 114.48,-112.26\"/>\n",
       "</g>\n",
       "</g>\n",
       "</svg>\n"
      ],
      "text/plain": [
       "<graphviz.graphs.Digraph at 0x137b522ad48>"
      ]
     },
     "execution_count": 30,
     "metadata": {},
     "output_type": "execute_result"
    }
   ],
   "source": [
    "L.grad = 1\n",
    "\n",
    "# Then look at the derivatives of L wrt. e and f\n",
    "# L = e * f. dL / de = f, symmetrically dL / df = e\n",
    "e.grad = -2.0\n",
    "f.grad = 4.0\n",
    "\n",
    "# If you know how c impacts e and how e impacts L\n",
    "# You can somehow put impacts together and know how c impacts L\n",
    "# Chain Rule:\n",
    "# dL / dc = (dL / de) * (de / dc)\n",
    "# Local derivative: e = d + c -> de / dc = 1\n",
    "# dL / dc = e.grad * 1 = -2.0\n",
    "c.grad = e.grad * 1\n",
    "d.grad = e.grad * 1\n",
    "\n",
    "# dL / da = (dL / de) * (de / dd) * (dd / da)\n",
    "# d = a * b -> dd / da = b\n",
    "# KNOWN: (dL / de) * (de / dd) = dL / dd = -2.0\n",
    "# dL / da = -2.0 * -3.0 = 6.0\n",
    "a.grad = 6.0\n",
    "b.grad = -4.0\n",
    "\n",
    "draw(L)"
   ]
  },
  {
   "cell_type": "markdown",
   "id": "43b37cbc",
   "metadata": {},
   "source": [
    "One step optimization"
   ]
  },
  {
   "cell_type": "code",
   "execution_count": 32,
   "id": "2592d530",
   "metadata": {},
   "outputs": [
    {
     "name": "stdout",
     "output_type": "stream",
     "text": [
      "-7.286496\n"
     ]
    }
   ],
   "source": [
    "   # Nudge all inputs(leaf nodes) to increase L to make it close to 0\n",
    "a.data += 0.01 * a.grad\n",
    "b.data += 0.01 * b.grad\n",
    "c.data += 0.01 * c.grad\n",
    "f.data += 0.01 * f.grad\n",
    "\n",
    "d = a * b\n",
    "e = d + c\n",
    "L = e * f\n",
    "print(L.data)"
   ]
  },
  {
   "cell_type": "markdown",
   "id": "b21f43fb",
   "metadata": {},
   "source": [
    "### Example 2: Neuron"
   ]
  }
 ],
 "metadata": {
  "kernelspec": {
   "display_name": "Python 3 (ipykernel)",
   "language": "python",
   "name": "python3"
  },
  "language_info": {
   "codemirror_mode": {
    "name": "ipython",
    "version": 3
   },
   "file_extension": ".py",
   "mimetype": "text/x-python",
   "name": "python",
   "nbconvert_exporter": "python",
   "pygments_lexer": "ipython3",
   "version": "3.7.16"
  }
 },
 "nbformat": 4,
 "nbformat_minor": 5
}
